{
 "cells": [
  {
   "cell_type": "code",
   "execution_count": 3,
   "metadata": {},
   "outputs": [],
   "source": [
    "import nltk"
   ]
  },
  {
   "cell_type": "code",
   "execution_count": 4,
   "metadata": {},
   "outputs": [],
   "source": [
    "text1 = 'Today is a nice day'"
   ]
  },
  {
   "cell_type": "code",
   "execution_count": 5,
   "metadata": {},
   "outputs": [
    {
     "data": {
      "text/plain": [
       "['Today is a nice day']"
      ]
     },
     "execution_count": 5,
     "metadata": {},
     "output_type": "execute_result"
    }
   ],
   "source": [
    "textsplit1 = nltk.sent_tokenize(text1)\n",
    "textsplit1"
   ]
  },
  {
   "cell_type": "code",
   "execution_count": 6,
   "metadata": {},
   "outputs": [
    {
     "data": {
      "text/plain": [
       "[['Today', 'is', 'a', 'nice', 'day']]"
      ]
     },
     "execution_count": 6,
     "metadata": {},
     "output_type": "execute_result"
    }
   ],
   "source": [
    "tokentext1 = [nltk.word_tokenize(sent) for sent in textsplit1]\n",
    "tokentext1"
   ]
  },
  {
   "cell_type": "code",
   "execution_count": 7,
   "metadata": {},
   "outputs": [
    {
     "data": {
      "text/plain": [
       "[[('Today', 'NN'), ('is', 'VBZ'), ('a', 'DT'), ('nice', 'JJ'), ('day', 'NN')]]"
      ]
     },
     "execution_count": 7,
     "metadata": {},
     "output_type": "execute_result"
    }
   ],
   "source": [
    "taggedtext1 = [nltk.pos_tag(tokens) for tokens in tokentext1]\n",
    "taggedtext1"
   ]
  },
  {
   "cell_type": "code",
   "execution_count": 8,
   "metadata": {},
   "outputs": [],
   "source": [
    "text2 = 'Bob and Mary went to France last month again'"
   ]
  },
  {
   "cell_type": "code",
   "execution_count": 9,
   "metadata": {},
   "outputs": [
    {
     "data": {
      "text/plain": [
       "['Bob and Mary went to France last month again']"
      ]
     },
     "execution_count": 9,
     "metadata": {},
     "output_type": "execute_result"
    }
   ],
   "source": [
    "textsplit2 = nltk.sent_tokenize(text2)\n",
    "textsplit2"
   ]
  },
  {
   "cell_type": "code",
   "execution_count": 10,
   "metadata": {},
   "outputs": [
    {
     "data": {
      "text/plain": [
       "[['Bob', 'and', 'Mary', 'went', 'to', 'France', 'last', 'month', 'again']]"
      ]
     },
     "execution_count": 10,
     "metadata": {},
     "output_type": "execute_result"
    }
   ],
   "source": [
    "tokentext2 = [nltk.word_tokenize(sent) for sent in textsplit2]\n",
    "tokentext2"
   ]
  },
  {
   "cell_type": "code",
   "execution_count": 11,
   "metadata": {},
   "outputs": [
    {
     "data": {
      "text/plain": [
       "[[('Bob', 'NNP'),\n",
       "  ('and', 'CC'),\n",
       "  ('Mary', 'NNP'),\n",
       "  ('went', 'VBD'),\n",
       "  ('to', 'TO'),\n",
       "  ('France', 'NNP'),\n",
       "  ('last', 'JJ'),\n",
       "  ('month', 'NN'),\n",
       "  ('again', 'RB')]]"
      ]
     },
     "execution_count": 11,
     "metadata": {},
     "output_type": "execute_result"
    }
   ],
   "source": [
    "taggedtext2 = [nltk.pos_tag(tokens) for tokens in tokentext2]\n",
    "taggedtext2"
   ]
  },
  {
   "cell_type": "code",
   "execution_count": 12,
   "metadata": {},
   "outputs": [],
   "source": [
    "text3 = 'You can say that again'"
   ]
  },
  {
   "cell_type": "code",
   "execution_count": 13,
   "metadata": {},
   "outputs": [
    {
     "data": {
      "text/plain": [
       "['You can say that again']"
      ]
     },
     "execution_count": 13,
     "metadata": {},
     "output_type": "execute_result"
    }
   ],
   "source": [
    "textsplit3 = nltk.sent_tokenize(text3)\n",
    "textsplit3"
   ]
  },
  {
   "cell_type": "code",
   "execution_count": 14,
   "metadata": {},
   "outputs": [
    {
     "data": {
      "text/plain": [
       "[['You', 'can', 'say', 'that', 'again']]"
      ]
     },
     "execution_count": 14,
     "metadata": {},
     "output_type": "execute_result"
    }
   ],
   "source": [
    "tokentext3 = [nltk.word_tokenize(sent) for sent in textsplit3]\n",
    "tokentext3"
   ]
  },
  {
   "cell_type": "code",
   "execution_count": 15,
   "metadata": {},
   "outputs": [
    {
     "data": {
      "text/plain": [
       "[[('You', 'PRP'),\n",
       "  ('can', 'MD'),\n",
       "  ('say', 'VB'),\n",
       "  ('that', 'DT'),\n",
       "  ('again', 'RB')]]"
      ]
     },
     "execution_count": 15,
     "metadata": {},
     "output_type": "execute_result"
    }
   ],
   "source": [
    "taggedtext3 = [nltk.pos_tag(tokens) for tokens in tokentext3]\n",
    "taggedtext3"
   ]
  },
  {
   "cell_type": "code",
   "execution_count": 16,
   "metadata": {},
   "outputs": [],
   "source": [
    "text4 = 'Birds are not necessarily able to fly'"
   ]
  },
  {
   "cell_type": "code",
   "execution_count": 17,
   "metadata": {},
   "outputs": [
    {
     "data": {
      "text/plain": [
       "['Birds are not necessarily able to fly']"
      ]
     },
     "execution_count": 17,
     "metadata": {},
     "output_type": "execute_result"
    }
   ],
   "source": [
    "textsplit4 = nltk.sent_tokenize(text4)\n",
    "textsplit4"
   ]
  },
  {
   "cell_type": "code",
   "execution_count": 18,
   "metadata": {},
   "outputs": [
    {
     "data": {
      "text/plain": [
       "[['Birds', 'are', 'not', 'necessarily', 'able', 'to', 'fly']]"
      ]
     },
     "execution_count": 18,
     "metadata": {},
     "output_type": "execute_result"
    }
   ],
   "source": [
    "tokentext4 = [nltk.word_tokenize(sent) for sent in textsplit4]\n",
    "tokentext4"
   ]
  },
  {
   "cell_type": "code",
   "execution_count": 19,
   "metadata": {},
   "outputs": [
    {
     "data": {
      "text/plain": [
       "[[('Birds', 'NNS'),\n",
       "  ('are', 'VBP'),\n",
       "  ('not', 'RB'),\n",
       "  ('necessarily', 'RB'),\n",
       "  ('able', 'JJ'),\n",
       "  ('to', 'TO'),\n",
       "  ('fly', 'VB')]]"
      ]
     },
     "execution_count": 19,
     "metadata": {},
     "output_type": "execute_result"
    }
   ],
   "source": [
    "taggedtext4 = [nltk.pos_tag(tokens) for tokens in tokentext4]\n",
    "taggedtext4"
   ]
  },
  {
   "cell_type": "code",
   "execution_count": 62,
   "metadata": {},
   "outputs": [],
   "source": [
    "grammar = nltk.CFG.fromstring(\"\"\"\n",
    "S -> NP VP\n",
    "NP -> Prop CONJ Prop |Prop | Det N | Det ADJ N\n",
    "VP -> V PP NP | V NP | V VP | V Det ADV | V AP | Det V\n",
    "AP -> ADV AP | ADJ VP\n",
    "PP -> Det NP\n",
    "ADV -> 'again' | 'necessarily' | 'not'\n",
    "ADJ -> 'nice' | 'able'\n",
    "Det -> 'to' | 'last' | 'a' | 'that' \n",
    "CONJ -> 'and'\n",
    "N -> 'month' | 'day' \n",
    "V -> 'went' | 'is' | 'can' | 'say' | 'fly' | 'are'\n",
    "Prop -> 'Bob' | 'France'| 'Today' |'You' | 'Birds' | 'Mary'\n",
    "\"\"\")"
   ]
  },
  {
   "cell_type": "code",
   "execution_count": 63,
   "metadata": {},
   "outputs": [],
   "source": [
    "rd_parser = nltk.RecursiveDescentParser(grammar)"
   ]
  },
  {
   "cell_type": "code",
   "execution_count": 54,
   "metadata": {},
   "outputs": [
    {
     "name": "stdout",
     "output_type": "stream",
     "text": [
      "(S (NP (Prop Today)) (VP (V is) (NP (Det a) (ADJ nice) (N day))))\n"
     ]
    }
   ],
   "source": [
    "sent1list = \"Today is a nice day\".split()\n",
    "for tree in rd_parser.parse(sent1list) :\n",
    "    print (tree)"
   ]
  },
  {
   "cell_type": "code",
   "execution_count": 64,
   "metadata": {},
   "outputs": [],
   "source": [
    "sent1list = \"Bob and Mary went to France last month again\".split()\n",
    "for tree in rd_parser.parse(sent1list) :\n",
    "    print (tree)"
   ]
  },
  {
   "cell_type": "code",
   "execution_count": 68,
   "metadata": {},
   "outputs": [
    {
     "name": "stdout",
     "output_type": "stream",
     "text": [
      "(S (NP (Prop You)) (VP (V can) (VP (V say) (Det that) (ADV again))))\n"
     ]
    }
   ],
   "source": [
    "sent1list = \"You can say that again\".split()\n",
    "for tree in rd_parser.parse(sent1list) :\n",
    "    print (tree)"
   ]
  },
  {
   "cell_type": "code",
   "execution_count": 69,
   "metadata": {},
   "outputs": [
    {
     "name": "stdout",
     "output_type": "stream",
     "text": [
      "(S\n",
      "  (NP (Prop Birds))\n",
      "  (VP\n",
      "    (V are)\n",
      "    (AP\n",
      "      (ADV not)\n",
      "      (AP (ADV necessarily) (AP (ADJ able) (VP (Det to) (V fly)))))))\n"
     ]
    }
   ],
   "source": [
    "sent1list = \"Birds are not necessarily able to fly\".split()\n",
    "for tree in rd_parser.parse(sent1list) :\n",
    "    print (tree)"
   ]
  },
  {
   "cell_type": "code",
   "execution_count": 75,
   "metadata": {},
   "outputs": [
    {
     "name": "stdout",
     "output_type": "stream",
     "text": [
      "(S\n",
      "  (NP (Prop You))\n",
      "  (VP\n",
      "    (V can)\n",
      "    (VP (V fly) (PP (Det to) (NP (Prop France))) (NP (Prop Today)))))\n"
     ]
    }
   ],
   "source": [
    "sent1list = \"You can fly to France Today\".split()\n",
    "for tree in rd_parser.parse(sent1list) :\n",
    "    print (tree)"
   ]
  },
  {
   "cell_type": "code",
   "execution_count": 77,
   "metadata": {},
   "outputs": [
    {
     "name": "stdout",
     "output_type": "stream",
     "text": [
      "(S\n",
      "  (NP (Prop Bob))\n",
      "  (VP (V went) (PP (Det to) (NP (Prop France))) (NP (Prop Today))))\n"
     ]
    }
   ],
   "source": [
    "sent1list = \"Bob went to France Today\".split()\n",
    "for tree in rd_parser.parse(sent1list) :\n",
    "    print (tree)"
   ]
  },
  {
   "cell_type": "code",
   "execution_count": 78,
   "metadata": {},
   "outputs": [
    {
     "name": "stdout",
     "output_type": "stream",
     "text": [
      "(S\n",
      "  (NP (Prop Bob))\n",
      "  (VP (V is) (AP (ADV not) (AP (ADJ able) (VP (Det to) (V say))))))\n"
     ]
    }
   ],
   "source": [
    "sent1list = \"Bob is not able to say\".split()\n",
    "for tree in rd_parser.parse(sent1list) :\n",
    "    print (tree)"
   ]
  },
  {
   "cell_type": "code",
   "execution_count": 81,
   "metadata": {},
   "outputs": [],
   "source": [
    "grammar2 = nltk.PCFG.fromstring(\"\"\"\n",
    "S \t-> NP VP [1.0]\n",
    "NP \t-> Prop[0.4] | Det N[0.3] | Det ADJ N[0.3]\n",
    "VP \t-> V PP NP [0.16] | V NP [0.20] | V VP [0.16] | V Det ADV [0.16] | V AP [0.16] | Det V [0.16]\n",
    "AP \t-> ADV AP[0.5] | ADJ VP [0.5]\n",
    "PP \t-> Det NP [1.0]\n",
    "ADV -> 'again' [0.3] | 'necessarily' [0.3] | 'not' [0.4]\n",
    "ADJ -> 'nice' [0.5] | 'able' [0.5]\n",
    "Det -> 'to' [0.25] | 'last' [0.25] | 'a' [0.25] | 'that'[0.25]\n",
    "N \t-> 'month' [0.5] | 'day' [0.5]\n",
    "V \t-> 'went' [0.16] | 'is' [0.16] | 'can' [0.16] | 'say' [0.16] | 'fly' [0.20] | 'are' [0.16]\n",
    "Prop -> 'Bob'[0.4] | 'France' [0.18] | 'Today' [0.18] | 'You' [0.15] | 'Birds' [0.09]\n",
    "    \"\"\")"
   ]
  },
  {
   "cell_type": "code",
   "execution_count": 90,
   "metadata": {},
   "outputs": [],
   "source": [
    "vb = nltk.ViterbiParser(grammar2)"
   ]
  },
  {
   "cell_type": "code",
   "execution_count": 91,
   "metadata": {},
   "outputs": [
    {
     "name": "stdout",
     "output_type": "stream",
     "text": [
      "(S\n",
      "  (NP (Prop Today))\n",
      "  (VP (V is) (NP (Det a) (ADJ nice) (N day)))) (p=4.32e-05)\n"
     ]
    }
   ],
   "source": [
    "sent1list = \"Today is a nice day\".split()\n",
    "for tree in vb.parse(sent1list) :\n",
    "    print (tree)"
   ]
  },
  {
   "cell_type": "code",
   "execution_count": null,
   "metadata": {},
   "outputs": [],
   "source": [
    "sent1list = \"Bob and Mary went to France last month again\".split()\n",
    "for tree in vb.parse(sent1list) :\n",
    "    print (tree)"
   ]
  },
  {
   "cell_type": "code",
   "execution_count": 93,
   "metadata": {},
   "outputs": [
    {
     "name": "stdout",
     "output_type": "stream",
     "text": [
      "(S\n",
      "  (NP (Prop You))\n",
      "  (VP (V can) (VP (V say) (Det that) (ADV again)))) (p=2.94912e-06)\n"
     ]
    }
   ],
   "source": [
    "sent1list = \"You can say that again\".split()\n",
    "for tree in vb.parse(sent1list) :\n",
    "    print (tree)"
   ]
  },
  {
   "cell_type": "code",
   "execution_count": 94,
   "metadata": {},
   "outputs": [
    {
     "name": "stdout",
     "output_type": "stream",
     "text": [
      "(S\n",
      "  (NP (Prop Birds))\n",
      "  (VP\n",
      "    (V are)\n",
      "    (AP\n",
      "      (ADV not)\n",
      "      (AP\n",
      "        (ADV necessarily)\n",
      "        (AP (ADJ able) (VP (Det to) (V fly))))))) (p=5.5296e-08)\n"
     ]
    }
   ],
   "source": [
    "sent1list = \"Birds are not necessarily able to fly\".split()\n",
    "for tree in vb.parse(sent1list) :\n",
    "    print (tree)"
   ]
  },
  {
   "cell_type": "code",
   "execution_count": 95,
   "metadata": {},
   "outputs": [
    {
     "name": "stdout",
     "output_type": "stream",
     "text": [
      "(S\n",
      "  (NP (Prop You))\n",
      "  (VP\n",
      "    (V can)\n",
      "    (VP\n",
      "      (V fly)\n",
      "      (PP (Det to) (NP (Prop France)))\n",
      "      (NP (Prop Today))))) (p=6.3701e-08)\n"
     ]
    }
   ],
   "source": [
    "sent1list = \"You can fly to France Today\".split()\n",
    "for tree in vb.parse(sent1list) :\n",
    "    print (tree)"
   ]
  },
  {
   "cell_type": "code",
   "execution_count": 96,
   "metadata": {},
   "outputs": [
    {
     "name": "stdout",
     "output_type": "stream",
     "text": [
      "(S\n",
      "  (NP (Prop Bob))\n",
      "  (VP\n",
      "    (V went)\n",
      "    (PP (Det to) (NP (Prop France)))\n",
      "    (NP (Prop Today)))) (p=5.30842e-06)\n"
     ]
    }
   ],
   "source": [
    "sent1list = \"Bob went to France Today\".split()\n",
    "for tree in vb.parse(sent1list) :\n",
    "    print (tree)"
   ]
  },
  {
   "cell_type": "code",
   "execution_count": 97,
   "metadata": {},
   "outputs": [
    {
     "name": "stdout",
     "output_type": "stream",
     "text": [
      "(S\n",
      "  (NP (Prop Bob))\n",
      "  (VP\n",
      "    (V is)\n",
      "    (AP (ADV not) (AP (ADJ able) (VP (Det to) (V say)))))) (p=1.31072e-06)\n"
     ]
    }
   ],
   "source": [
    "sent1list = \"Bob is not able to say\".split()\n",
    "for tree in vb.parse(sent1list) :\n",
    "    print (tree)"
   ]
  },
  {
   "cell_type": "code",
   "execution_count": null,
   "metadata": {},
   "outputs": [],
   "source": []
  }
 ],
 "metadata": {
  "kernelspec": {
   "display_name": "Python 3",
   "language": "python",
   "name": "python3"
  },
  "language_info": {
   "codemirror_mode": {
    "name": "ipython",
    "version": 3
   },
   "file_extension": ".py",
   "mimetype": "text/x-python",
   "name": "python",
   "nbconvert_exporter": "python",
   "pygments_lexer": "ipython3",
   "version": "3.7.2"
  }
 },
 "nbformat": 4,
 "nbformat_minor": 2
}
